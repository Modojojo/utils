{
  "nbformat": 4,
  "nbformat_minor": 0,
  "metadata": {
    "colab": {
      "name": "pytorch_basics.ipynb",
      "provenance": [],
      "collapsed_sections": []
    },
    "kernelspec": {
      "name": "python3",
      "display_name": "Python 3"
    },
    "language_info": {
      "name": "python"
    },
    "accelerator": "GPU"
  },
  "cells": [
    {
      "cell_type": "code",
      "metadata": {
        "colab": {
          "base_uri": "https://localhost:8080/"
        },
        "id": "VnQ0qMSwvZpf",
        "outputId": "9000b007-1cc4-4807-af9c-3721ce3681f9"
      },
      "source": [
        "import numpy as np\n",
        "import torch\n",
        "torch.cuda.is_available()"
      ],
      "execution_count": 1,
      "outputs": [
        {
          "output_type": "execute_result",
          "data": {
            "text/plain": [
              "True"
            ]
          },
          "metadata": {
            "tags": []
          },
          "execution_count": 1
        }
      ]
    },
    {
      "cell_type": "markdown",
      "metadata": {
        "id": "Hzcff-RE065_"
      },
      "source": [
        "## Tensor Basics"
      ]
    },
    {
      "cell_type": "code",
      "metadata": {
        "colab": {
          "base_uri": "https://localhost:8080/"
        },
        "id": "XKSyTIij0CF1",
        "outputId": "84df46da-cef0-4815-e5cc-bb613b9ced10"
      },
      "source": [
        "## numpy array to tensor\n",
        "\n",
        "arr = np.array([[1,3,5,7,9,0],[1,2,3,4,5,6]])\n",
        "print(arr, '\\n')\n",
        "tensor = torch.from_numpy(arr)\n",
        "print(type(tensor))\n",
        "tensor"
      ],
      "execution_count": 2,
      "outputs": [
        {
          "output_type": "stream",
          "text": [
            "[[1 3 5 7 9 0]\n",
            " [1 2 3 4 5 6]] \n",
            "\n",
            "<class 'torch.Tensor'>\n"
          ],
          "name": "stdout"
        },
        {
          "output_type": "execute_result",
          "data": {
            "text/plain": [
              "tensor([[1, 3, 5, 7, 9, 0],\n",
              "        [1, 2, 3, 4, 5, 6]])"
            ]
          },
          "metadata": {
            "tags": []
          },
          "execution_count": 2
        }
      ]
    },
    {
      "cell_type": "code",
      "metadata": {
        "colab": {
          "base_uri": "https://localhost:8080/"
        },
        "id": "Yb8vy_IA4ZUH",
        "outputId": "1d7a5ff2-bbaf-4c86-f5bf-9ceb0233d3ec"
      },
      "source": [
        "## Indexing\n",
        "\n",
        "print(tensor[0])\n",
        "print(tensor[1])\n",
        "print(tensor[0, 3])\n",
        "print(tensor[1, :3])\n",
        "print(tensor[0, :-1])"
      ],
      "execution_count": 3,
      "outputs": [
        {
          "output_type": "stream",
          "text": [
            "tensor([1, 3, 5, 7, 9, 0])\n",
            "tensor([1, 2, 3, 4, 5, 6])\n",
            "tensor(7)\n",
            "tensor([1, 2, 3])\n",
            "tensor([1, 3, 5, 7, 9])\n"
          ],
          "name": "stdout"
        }
      ]
    },
    {
      "cell_type": "code",
      "metadata": {
        "colab": {
          "base_uri": "https://localhost:8080/"
        },
        "id": "w4UMRefJ4ztH",
        "outputId": "b7996535-829a-4b6a-b91d-945607e27ab8"
      },
      "source": [
        "tensor_cpy = tensor\n",
        "print(tensor_cpy)\n",
        "print(id(tensor))\n",
        "print(id(tensor_cpy))"
      ],
      "execution_count": 4,
      "outputs": [
        {
          "output_type": "stream",
          "text": [
            "tensor([[1, 3, 5, 7, 9, 0],\n",
            "        [1, 2, 3, 4, 5, 6]])\n",
            "139782801644832\n",
            "139782801644832\n"
          ],
          "name": "stdout"
        }
      ]
    },
    {
      "cell_type": "code",
      "metadata": {
        "colab": {
          "base_uri": "https://localhost:8080/"
        },
        "id": "uqH2OLLT6CuG",
        "outputId": "aaddd94d-81ab-4e7e-dd08-6a36d2c91163"
      },
      "source": [
        "## Cloning/copying a tensor\n",
        "tensor_cloned = tensor.clone()\n",
        "print(\"Original tensor id: {}\".format(id(tensor)))\n",
        "print(\"Cloned tensor id : {}\\n\".format(id(tensor_cloned)))\n",
        "\n",
        "tensor_cpy = torch.tensor(arr)\n",
        "print(\"Original tensor id: {}\".format(id(tensor)))\n",
        "print(\"Copied tensor id : {}\\n\".format(id(tensor_cpy)))"
      ],
      "execution_count": 5,
      "outputs": [
        {
          "output_type": "stream",
          "text": [
            "Original tensor id: 139782801644832\n",
            "Cloned tensor id : 139782676507376\n",
            "\n",
            "Original tensor id: 139782801644832\n",
            "Copied tensor id : 139782676507456\n",
            "\n"
          ],
          "name": "stdout"
        }
      ]
    },
    {
      "cell_type": "code",
      "metadata": {
        "colab": {
          "base_uri": "https://localhost:8080/"
        },
        "id": "qd3I9GP56jOb",
        "outputId": "ac1b003e-71a5-4255-9547-416b48fa4b12"
      },
      "source": [
        "## Manipulating values\n",
        "tensor_cpy[1,3] = -999  # Changing values in copy of tensor \n",
        "print(\"Original tensor: \\n{}\".format(tensor))\n",
        "print(\"Copied tensor: \\n{}\\n\".format(tensor_cpy))"
      ],
      "execution_count": 6,
      "outputs": [
        {
          "output_type": "stream",
          "text": [
            "Original tensor: \n",
            "tensor([[1, 3, 5, 7, 9, 0],\n",
            "        [1, 2, 3, 4, 5, 6]])\n",
            "Copied tensor: \n",
            "tensor([[   1,    3,    5,    7,    9,    0],\n",
            "        [   1,    2,    3, -999,    5,    6]])\n",
            "\n"
          ],
          "name": "stdout"
        }
      ]
    },
    {
      "cell_type": "code",
      "metadata": {
        "colab": {
          "base_uri": "https://localhost:8080/"
        },
        "id": "wao_lhVmA8Ti",
        "outputId": "f5860fe5-7690-4ff5-9dab-bcf0123f171b"
      },
      "source": [
        "## Creating tensors\n",
        "tensor = torch.zeros(4,2, dtype = torch.float32)\n",
        "tensor"
      ],
      "execution_count": 7,
      "outputs": [
        {
          "output_type": "execute_result",
          "data": {
            "text/plain": [
              "tensor([[0., 0.],\n",
              "        [0., 0.],\n",
              "        [0., 0.],\n",
              "        [0., 0.]])"
            ]
          },
          "metadata": {
            "tags": []
          },
          "execution_count": 7
        }
      ]
    },
    {
      "cell_type": "code",
      "metadata": {
        "colab": {
          "base_uri": "https://localhost:8080/"
        },
        "id": "eRKIkRMCB3WW",
        "outputId": "76a2806f-0b6d-42ea-b645-babd9a4ee78f"
      },
      "source": [
        "np.ones((4,5))"
      ],
      "execution_count": 8,
      "outputs": [
        {
          "output_type": "execute_result",
          "data": {
            "text/plain": [
              "array([[1., 1., 1., 1., 1.],\n",
              "       [1., 1., 1., 1., 1.],\n",
              "       [1., 1., 1., 1., 1.],\n",
              "       [1., 1., 1., 1., 1.]])"
            ]
          },
          "metadata": {
            "tags": []
          },
          "execution_count": 8
        }
      ]
    },
    {
      "cell_type": "code",
      "metadata": {
        "colab": {
          "base_uri": "https://localhost:8080/"
        },
        "id": "nb19P-vXCUxv",
        "outputId": "ebb3fd21-04ae-45f7-aeed-4b2357714892"
      },
      "source": [
        "## Arithmetic operations\n",
        "a = torch.tensor([3,4,5,6,7])\n",
        "b = torch.tensor(np.arange(0,20,4))\n",
        "c = torch.zeros(a.shape[0])\n",
        "print(a,'\\n', b)"
      ],
      "execution_count": 9,
      "outputs": [
        {
          "output_type": "stream",
          "text": [
            "tensor([3, 4, 5, 6, 7]) \n",
            " tensor([ 0,  4,  8, 12, 16])\n"
          ],
          "name": "stdout"
        }
      ]
    },
    {
      "cell_type": "code",
      "metadata": {
        "colab": {
          "base_uri": "https://localhost:8080/"
        },
        "id": "ds4_iuYFGAcg",
        "outputId": "136f8817-01cc-4059-ddf0-270424ea7a8d"
      },
      "source": [
        "# ADD\n",
        "torch.add(a,b, out = c)\n",
        "print(c)\n",
        "\n",
        "# <tensor>.sum()\n",
        "print(f\"sum = {c.sum()}\") "
      ],
      "execution_count": 10,
      "outputs": [
        {
          "output_type": "stream",
          "text": [
            "tensor([ 3.,  8., 13., 18., 23.])\n",
            "sum = 65.0\n"
          ],
          "name": "stdout"
        }
      ]
    },
    {
      "cell_type": "code",
      "metadata": {
        "colab": {
          "base_uri": "https://localhost:8080/"
        },
        "id": "1UJ6SV0GGBH7",
        "outputId": "3a5b61f5-e832-4aaa-9a16-9f39d9b715ae"
      },
      "source": [
        "## Dot Product and multiply operation\n",
        "print(f\"Dot Product : {a.dot(b)}\")\n",
        "print(f\"Simple multiply operation: {a.mul(b)}\")"
      ],
      "execution_count": 11,
      "outputs": [
        {
          "output_type": "stream",
          "text": [
            "Dot Product : 240\n",
            "Simple multiply operation: tensor([  0,  16,  40,  72, 112])\n"
          ],
          "name": "stdout"
        }
      ]
    },
    {
      "cell_type": "code",
      "metadata": {
        "colab": {
          "base_uri": "https://localhost:8080/"
        },
        "id": "usyms0pxIXhA",
        "outputId": "e650af9e-5c4d-4f09-b0a0-7e12e606c74d"
      },
      "source": [
        "## MATRIX MULTLIPLICATION\n",
        "a = torch.tensor(np.arange(10).reshape(2,-1))\n",
        "b = torch.tensor(np.arange(10).reshape(5,-1))\n",
        "print(a, '\\n')\n",
        "print(b, '\\n')\n",
        "print(\"matrix multiplication:\")\n",
        "a.matmul(b)"
      ],
      "execution_count": 12,
      "outputs": [
        {
          "output_type": "stream",
          "text": [
            "tensor([[0, 1, 2, 3, 4],\n",
            "        [5, 6, 7, 8, 9]]) \n",
            "\n",
            "tensor([[0, 1],\n",
            "        [2, 3],\n",
            "        [4, 5],\n",
            "        [6, 7],\n",
            "        [8, 9]]) \n",
            "\n",
            "matrix multiplication:\n"
          ],
          "name": "stdout"
        },
        {
          "output_type": "execute_result",
          "data": {
            "text/plain": [
              "tensor([[ 60,  70],\n",
              "        [160, 195]])"
            ]
          },
          "metadata": {
            "tags": []
          },
          "execution_count": 12
        }
      ]
    },
    {
      "cell_type": "code",
      "metadata": {
        "colab": {
          "base_uri": "https://localhost:8080/"
        },
        "id": "HE7VujdOInQ3",
        "outputId": "56ec0371-69eb-43c2-9333-543be88e2501"
      },
      "source": [
        "# Another way of matrix multiply\n",
        "torch.mm(a,b)"
      ],
      "execution_count": 13,
      "outputs": [
        {
          "output_type": "execute_result",
          "data": {
            "text/plain": [
              "tensor([[ 60,  70],\n",
              "        [160, 195]])"
            ]
          },
          "metadata": {
            "tags": []
          },
          "execution_count": 13
        }
      ]
    }
  ]
}